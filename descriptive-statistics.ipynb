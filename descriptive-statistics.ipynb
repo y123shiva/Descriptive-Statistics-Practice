{
 "cells": [
  {
   "cell_type": "code",
   "execution_count": 1,
   "id": "6c4cfd50",
   "metadata": {
    "_cell_guid": "b1076dfc-b9ad-4769-8c92-a6c4dae69d19",
    "_uuid": "8f2839f25d086af736a60e9eeb907d3b93b6e0e5",
    "execution": {
     "iopub.execute_input": "2022-08-17T11:37:51.390812Z",
     "iopub.status.busy": "2022-08-17T11:37:51.390073Z",
     "iopub.status.idle": "2022-08-17T11:37:51.408799Z",
     "shell.execute_reply": "2022-08-17T11:37:51.407774Z"
    },
    "papermill": {
     "duration": 0.030759,
     "end_time": "2022-08-17T11:37:51.411480",
     "exception": false,
     "start_time": "2022-08-17T11:37:51.380721",
     "status": "completed"
    },
    "tags": []
   },
   "outputs": [
    {
     "name": "stdout",
     "output_type": "stream",
     "text": [
      "/kaggle/input/incomeexpenditure-dataset/Inc_Exp_Data.csv\n"
     ]
    }
   ],
   "source": [
    "# This Python 3 environment comes with many helpful analytics libraries installed\n",
    "# It is defined by the kaggle/python Docker image: https://github.com/kaggle/docker-python\n",
    "# For example, here's several helpful packages to load\n",
    "\n",
    "import numpy as np # linear algebra\n",
    "import pandas as pd # data processing, CSV file I/O (e.g. pd.read_csv)\n",
    "\n",
    "# Input data files are available in the read-only \"../input/\" directory\n",
    "# For example, running this (by clicking run or pressing Shift+Enter) will list all files under the input directory\n",
    "\n",
    "import os\n",
    "for dirname, _, filenames in os.walk('/kaggle/input'):\n",
    "    for filename in filenames:\n",
    "        print(os.path.join(dirname, filename))\n",
    "\n",
    "# You can write up to 20GB to the current directory (/kaggle/working/) that gets preserved as output when you create a version using \"Save & Run All\" \n",
    "# You can also write temporary files to /kaggle/temp/, but they won't be saved outside of the current session"
   ]
  },
  {
   "cell_type": "markdown",
   "id": "f2607e6a",
   "metadata": {
    "papermill": {
     "duration": 0.014281,
     "end_time": "2022-08-17T11:37:51.436660",
     "exception": false,
     "start_time": "2022-08-17T11:37:51.422379",
     "status": "completed"
    },
    "tags": []
   },
   "source": [
    "**Load Dataset**"
   ]
  },
  {
   "cell_type": "code",
   "execution_count": 2,
   "id": "0ae24522",
   "metadata": {
    "execution": {
     "iopub.execute_input": "2022-08-17T11:37:51.465803Z",
     "iopub.status.busy": "2022-08-17T11:37:51.465483Z",
     "iopub.status.idle": "2022-08-17T11:37:51.479098Z",
     "shell.execute_reply": "2022-08-17T11:37:51.478177Z"
    },
    "papermill": {
     "duration": 0.031442,
     "end_time": "2022-08-17T11:37:51.481362",
     "exception": false,
     "start_time": "2022-08-17T11:37:51.449920",
     "status": "completed"
    },
    "tags": []
   },
   "outputs": [],
   "source": [
    "income=pd.read_csv(\"/kaggle/input/incomeexpenditure-dataset/Inc_Exp_Data.csv\")"
   ]
  },
  {
   "cell_type": "code",
   "execution_count": 3,
   "id": "367b8996",
   "metadata": {
    "execution": {
     "iopub.execute_input": "2022-08-17T11:37:51.502132Z",
     "iopub.status.busy": "2022-08-17T11:37:51.501240Z",
     "iopub.status.idle": "2022-08-17T11:37:51.522182Z",
     "shell.execute_reply": "2022-08-17T11:37:51.521047Z"
    },
    "papermill": {
     "duration": 0.034212,
     "end_time": "2022-08-17T11:37:51.525068",
     "exception": false,
     "start_time": "2022-08-17T11:37:51.490856",
     "status": "completed"
    },
    "tags": []
   },
   "outputs": [
    {
     "data": {
      "text/html": [
       "<div>\n",
       "<style scoped>\n",
       "    .dataframe tbody tr th:only-of-type {\n",
       "        vertical-align: middle;\n",
       "    }\n",
       "\n",
       "    .dataframe tbody tr th {\n",
       "        vertical-align: top;\n",
       "    }\n",
       "\n",
       "    .dataframe thead th {\n",
       "        text-align: right;\n",
       "    }\n",
       "</style>\n",
       "<table border=\"1\" class=\"dataframe\">\n",
       "  <thead>\n",
       "    <tr style=\"text-align: right;\">\n",
       "      <th></th>\n",
       "      <th>Mthly_HH_Income</th>\n",
       "      <th>Mthly_HH_Expense</th>\n",
       "      <th>No_of_Fly_Members</th>\n",
       "      <th>Emi_or_Rent_Amt</th>\n",
       "      <th>Annual_HH_Income</th>\n",
       "      <th>Highest_Qualified_Member</th>\n",
       "      <th>No_of_Earning_Members</th>\n",
       "    </tr>\n",
       "  </thead>\n",
       "  <tbody>\n",
       "    <tr>\n",
       "      <th>0</th>\n",
       "      <td>5000</td>\n",
       "      <td>8000</td>\n",
       "      <td>3</td>\n",
       "      <td>2000</td>\n",
       "      <td>64200</td>\n",
       "      <td>Under-Graduate</td>\n",
       "      <td>1</td>\n",
       "    </tr>\n",
       "    <tr>\n",
       "      <th>1</th>\n",
       "      <td>6000</td>\n",
       "      <td>7000</td>\n",
       "      <td>2</td>\n",
       "      <td>3000</td>\n",
       "      <td>79920</td>\n",
       "      <td>Illiterate</td>\n",
       "      <td>1</td>\n",
       "    </tr>\n",
       "    <tr>\n",
       "      <th>2</th>\n",
       "      <td>10000</td>\n",
       "      <td>4500</td>\n",
       "      <td>2</td>\n",
       "      <td>0</td>\n",
       "      <td>112800</td>\n",
       "      <td>Under-Graduate</td>\n",
       "      <td>1</td>\n",
       "    </tr>\n",
       "    <tr>\n",
       "      <th>3</th>\n",
       "      <td>10000</td>\n",
       "      <td>2000</td>\n",
       "      <td>1</td>\n",
       "      <td>0</td>\n",
       "      <td>97200</td>\n",
       "      <td>Illiterate</td>\n",
       "      <td>1</td>\n",
       "    </tr>\n",
       "    <tr>\n",
       "      <th>4</th>\n",
       "      <td>12500</td>\n",
       "      <td>12000</td>\n",
       "      <td>2</td>\n",
       "      <td>3000</td>\n",
       "      <td>147000</td>\n",
       "      <td>Graduate</td>\n",
       "      <td>1</td>\n",
       "    </tr>\n",
       "  </tbody>\n",
       "</table>\n",
       "</div>"
      ],
      "text/plain": [
       "   Mthly_HH_Income  Mthly_HH_Expense  No_of_Fly_Members  Emi_or_Rent_Amt  \\\n",
       "0             5000              8000                  3             2000   \n",
       "1             6000              7000                  2             3000   \n",
       "2            10000              4500                  2                0   \n",
       "3            10000              2000                  1                0   \n",
       "4            12500             12000                  2             3000   \n",
       "\n",
       "   Annual_HH_Income Highest_Qualified_Member  No_of_Earning_Members  \n",
       "0             64200           Under-Graduate                      1  \n",
       "1             79920               Illiterate                      1  \n",
       "2            112800           Under-Graduate                      1  \n",
       "3             97200               Illiterate                      1  \n",
       "4            147000                 Graduate                      1  "
      ]
     },
     "execution_count": 3,
     "metadata": {},
     "output_type": "execute_result"
    }
   ],
   "source": [
    "income.head()"
   ]
  },
  {
   "cell_type": "markdown",
   "id": "3d8d759b",
   "metadata": {
    "papermill": {
     "duration": 0.007468,
     "end_time": "2022-08-17T11:37:51.546340",
     "exception": false,
     "start_time": "2022-08-17T11:37:51.538872",
     "status": "completed"
    },
    "tags": []
   },
   "source": [
    "**Analyze the data**"
   ]
  },
  {
   "cell_type": "code",
   "execution_count": 4,
   "id": "b3a22baa",
   "metadata": {
    "execution": {
     "iopub.execute_input": "2022-08-17T11:37:51.561997Z",
     "iopub.status.busy": "2022-08-17T11:37:51.561701Z",
     "iopub.status.idle": "2022-08-17T11:37:51.584863Z",
     "shell.execute_reply": "2022-08-17T11:37:51.582749Z"
    },
    "papermill": {
     "duration": 0.033399,
     "end_time": "2022-08-17T11:37:51.587168",
     "exception": false,
     "start_time": "2022-08-17T11:37:51.553769",
     "status": "completed"
    },
    "tags": []
   },
   "outputs": [
    {
     "name": "stdout",
     "output_type": "stream",
     "text": [
      "<class 'pandas.core.frame.DataFrame'>\n",
      "RangeIndex: 50 entries, 0 to 49\n",
      "Data columns (total 7 columns):\n",
      " #   Column                    Non-Null Count  Dtype \n",
      "---  ------                    --------------  ----- \n",
      " 0   Mthly_HH_Income           50 non-null     int64 \n",
      " 1   Mthly_HH_Expense          50 non-null     int64 \n",
      " 2   No_of_Fly_Members         50 non-null     int64 \n",
      " 3   Emi_or_Rent_Amt           50 non-null     int64 \n",
      " 4   Annual_HH_Income          50 non-null     int64 \n",
      " 5   Highest_Qualified_Member  50 non-null     object\n",
      " 6   No_of_Earning_Members     50 non-null     int64 \n",
      "dtypes: int64(6), object(1)\n",
      "memory usage: 2.9+ KB\n"
     ]
    }
   ],
   "source": [
    "income.info()"
   ]
  },
  {
   "cell_type": "code",
   "execution_count": 5,
   "id": "3d00f5e8",
   "metadata": {
    "execution": {
     "iopub.execute_input": "2022-08-17T11:37:51.602629Z",
     "iopub.status.busy": "2022-08-17T11:37:51.602366Z",
     "iopub.status.idle": "2022-08-17T11:37:51.607861Z",
     "shell.execute_reply": "2022-08-17T11:37:51.606959Z"
    },
    "papermill": {
     "duration": 0.015133,
     "end_time": "2022-08-17T11:37:51.609790",
     "exception": false,
     "start_time": "2022-08-17T11:37:51.594657",
     "status": "completed"
    },
    "tags": []
   },
   "outputs": [
    {
     "data": {
      "text/plain": [
       "(50, 7)"
      ]
     },
     "execution_count": 5,
     "metadata": {},
     "output_type": "execute_result"
    }
   ],
   "source": [
    "income.shape"
   ]
  },
  {
   "cell_type": "code",
   "execution_count": 6,
   "id": "eae2500a",
   "metadata": {
    "execution": {
     "iopub.execute_input": "2022-08-17T11:37:51.632193Z",
     "iopub.status.busy": "2022-08-17T11:37:51.631735Z",
     "iopub.status.idle": "2022-08-17T11:37:51.679130Z",
     "shell.execute_reply": "2022-08-17T11:37:51.678037Z"
    },
    "papermill": {
     "duration": 0.067499,
     "end_time": "2022-08-17T11:37:51.684347",
     "exception": false,
     "start_time": "2022-08-17T11:37:51.616848",
     "status": "completed"
    },
    "tags": []
   },
   "outputs": [
    {
     "data": {
      "text/html": [
       "<div>\n",
       "<style scoped>\n",
       "    .dataframe tbody tr th:only-of-type {\n",
       "        vertical-align: middle;\n",
       "    }\n",
       "\n",
       "    .dataframe tbody tr th {\n",
       "        vertical-align: top;\n",
       "    }\n",
       "\n",
       "    .dataframe thead th {\n",
       "        text-align: right;\n",
       "    }\n",
       "</style>\n",
       "<table border=\"1\" class=\"dataframe\">\n",
       "  <thead>\n",
       "    <tr style=\"text-align: right;\">\n",
       "      <th></th>\n",
       "      <th>Mthly_HH_Income</th>\n",
       "      <th>Mthly_HH_Expense</th>\n",
       "      <th>No_of_Fly_Members</th>\n",
       "      <th>Emi_or_Rent_Amt</th>\n",
       "      <th>Annual_HH_Income</th>\n",
       "      <th>No_of_Earning_Members</th>\n",
       "    </tr>\n",
       "  </thead>\n",
       "  <tbody>\n",
       "    <tr>\n",
       "      <th>count</th>\n",
       "      <td>50.000000</td>\n",
       "      <td>50.000000</td>\n",
       "      <td>50.000000</td>\n",
       "      <td>50.000000</td>\n",
       "      <td>5.000000e+01</td>\n",
       "      <td>50.000000</td>\n",
       "    </tr>\n",
       "    <tr>\n",
       "      <th>mean</th>\n",
       "      <td>41558.000000</td>\n",
       "      <td>18818.000000</td>\n",
       "      <td>4.060000</td>\n",
       "      <td>3060.000000</td>\n",
       "      <td>4.900190e+05</td>\n",
       "      <td>1.460000</td>\n",
       "    </tr>\n",
       "    <tr>\n",
       "      <th>std</th>\n",
       "      <td>26097.908979</td>\n",
       "      <td>12090.216824</td>\n",
       "      <td>1.517382</td>\n",
       "      <td>6241.434948</td>\n",
       "      <td>3.201358e+05</td>\n",
       "      <td>0.734291</td>\n",
       "    </tr>\n",
       "    <tr>\n",
       "      <th>min</th>\n",
       "      <td>5000.000000</td>\n",
       "      <td>2000.000000</td>\n",
       "      <td>1.000000</td>\n",
       "      <td>0.000000</td>\n",
       "      <td>6.420000e+04</td>\n",
       "      <td>1.000000</td>\n",
       "    </tr>\n",
       "    <tr>\n",
       "      <th>25%</th>\n",
       "      <td>23550.000000</td>\n",
       "      <td>10000.000000</td>\n",
       "      <td>3.000000</td>\n",
       "      <td>0.000000</td>\n",
       "      <td>2.587500e+05</td>\n",
       "      <td>1.000000</td>\n",
       "    </tr>\n",
       "    <tr>\n",
       "      <th>50%</th>\n",
       "      <td>35000.000000</td>\n",
       "      <td>15500.000000</td>\n",
       "      <td>4.000000</td>\n",
       "      <td>0.000000</td>\n",
       "      <td>4.474200e+05</td>\n",
       "      <td>1.000000</td>\n",
       "    </tr>\n",
       "    <tr>\n",
       "      <th>75%</th>\n",
       "      <td>50375.000000</td>\n",
       "      <td>25000.000000</td>\n",
       "      <td>5.000000</td>\n",
       "      <td>3500.000000</td>\n",
       "      <td>5.947200e+05</td>\n",
       "      <td>2.000000</td>\n",
       "    </tr>\n",
       "    <tr>\n",
       "      <th>max</th>\n",
       "      <td>100000.000000</td>\n",
       "      <td>50000.000000</td>\n",
       "      <td>7.000000</td>\n",
       "      <td>35000.000000</td>\n",
       "      <td>1.404000e+06</td>\n",
       "      <td>4.000000</td>\n",
       "    </tr>\n",
       "  </tbody>\n",
       "</table>\n",
       "</div>"
      ],
      "text/plain": [
       "       Mthly_HH_Income  Mthly_HH_Expense  No_of_Fly_Members  Emi_or_Rent_Amt  \\\n",
       "count        50.000000         50.000000          50.000000        50.000000   \n",
       "mean      41558.000000      18818.000000           4.060000      3060.000000   \n",
       "std       26097.908979      12090.216824           1.517382      6241.434948   \n",
       "min        5000.000000       2000.000000           1.000000         0.000000   \n",
       "25%       23550.000000      10000.000000           3.000000         0.000000   \n",
       "50%       35000.000000      15500.000000           4.000000         0.000000   \n",
       "75%       50375.000000      25000.000000           5.000000      3500.000000   \n",
       "max      100000.000000      50000.000000           7.000000     35000.000000   \n",
       "\n",
       "       Annual_HH_Income  No_of_Earning_Members  \n",
       "count      5.000000e+01              50.000000  \n",
       "mean       4.900190e+05               1.460000  \n",
       "std        3.201358e+05               0.734291  \n",
       "min        6.420000e+04               1.000000  \n",
       "25%        2.587500e+05               1.000000  \n",
       "50%        4.474200e+05               1.000000  \n",
       "75%        5.947200e+05               2.000000  \n",
       "max        1.404000e+06               4.000000  "
      ]
     },
     "execution_count": 6,
     "metadata": {},
     "output_type": "execute_result"
    }
   ],
   "source": [
    "income.describe()"
   ]
  },
  {
   "cell_type": "code",
   "execution_count": 7,
   "id": "70a7f158",
   "metadata": {
    "execution": {
     "iopub.execute_input": "2022-08-17T11:37:51.716884Z",
     "iopub.status.busy": "2022-08-17T11:37:51.716425Z",
     "iopub.status.idle": "2022-08-17T11:37:51.744441Z",
     "shell.execute_reply": "2022-08-17T11:37:51.743398Z"
    },
    "papermill": {
     "duration": 0.047029,
     "end_time": "2022-08-17T11:37:51.746659",
     "exception": false,
     "start_time": "2022-08-17T11:37:51.699630",
     "status": "completed"
    },
    "tags": []
   },
   "outputs": [
    {
     "data": {
      "text/html": [
       "<div>\n",
       "<style scoped>\n",
       "    .dataframe tbody tr th:only-of-type {\n",
       "        vertical-align: middle;\n",
       "    }\n",
       "\n",
       "    .dataframe tbody tr th {\n",
       "        vertical-align: top;\n",
       "    }\n",
       "\n",
       "    .dataframe thead th {\n",
       "        text-align: right;\n",
       "    }\n",
       "</style>\n",
       "<table border=\"1\" class=\"dataframe\">\n",
       "  <thead>\n",
       "    <tr style=\"text-align: right;\">\n",
       "      <th></th>\n",
       "      <th>count</th>\n",
       "      <th>mean</th>\n",
       "      <th>std</th>\n",
       "      <th>min</th>\n",
       "      <th>25%</th>\n",
       "      <th>50%</th>\n",
       "      <th>75%</th>\n",
       "      <th>max</th>\n",
       "    </tr>\n",
       "  </thead>\n",
       "  <tbody>\n",
       "    <tr>\n",
       "      <th>Mthly_HH_Income</th>\n",
       "      <td>50.0</td>\n",
       "      <td>41558.00</td>\n",
       "      <td>26097.908979</td>\n",
       "      <td>5000.0</td>\n",
       "      <td>23550.0</td>\n",
       "      <td>35000.0</td>\n",
       "      <td>50375.0</td>\n",
       "      <td>100000.0</td>\n",
       "    </tr>\n",
       "    <tr>\n",
       "      <th>Mthly_HH_Expense</th>\n",
       "      <td>50.0</td>\n",
       "      <td>18818.00</td>\n",
       "      <td>12090.216824</td>\n",
       "      <td>2000.0</td>\n",
       "      <td>10000.0</td>\n",
       "      <td>15500.0</td>\n",
       "      <td>25000.0</td>\n",
       "      <td>50000.0</td>\n",
       "    </tr>\n",
       "    <tr>\n",
       "      <th>No_of_Fly_Members</th>\n",
       "      <td>50.0</td>\n",
       "      <td>4.06</td>\n",
       "      <td>1.517382</td>\n",
       "      <td>1.0</td>\n",
       "      <td>3.0</td>\n",
       "      <td>4.0</td>\n",
       "      <td>5.0</td>\n",
       "      <td>7.0</td>\n",
       "    </tr>\n",
       "    <tr>\n",
       "      <th>Emi_or_Rent_Amt</th>\n",
       "      <td>50.0</td>\n",
       "      <td>3060.00</td>\n",
       "      <td>6241.434948</td>\n",
       "      <td>0.0</td>\n",
       "      <td>0.0</td>\n",
       "      <td>0.0</td>\n",
       "      <td>3500.0</td>\n",
       "      <td>35000.0</td>\n",
       "    </tr>\n",
       "    <tr>\n",
       "      <th>Annual_HH_Income</th>\n",
       "      <td>50.0</td>\n",
       "      <td>490019.04</td>\n",
       "      <td>320135.792123</td>\n",
       "      <td>64200.0</td>\n",
       "      <td>258750.0</td>\n",
       "      <td>447420.0</td>\n",
       "      <td>594720.0</td>\n",
       "      <td>1404000.0</td>\n",
       "    </tr>\n",
       "    <tr>\n",
       "      <th>No_of_Earning_Members</th>\n",
       "      <td>50.0</td>\n",
       "      <td>1.46</td>\n",
       "      <td>0.734291</td>\n",
       "      <td>1.0</td>\n",
       "      <td>1.0</td>\n",
       "      <td>1.0</td>\n",
       "      <td>2.0</td>\n",
       "      <td>4.0</td>\n",
       "    </tr>\n",
       "  </tbody>\n",
       "</table>\n",
       "</div>"
      ],
      "text/plain": [
       "                       count       mean            std      min       25%  \\\n",
       "Mthly_HH_Income         50.0   41558.00   26097.908979   5000.0   23550.0   \n",
       "Mthly_HH_Expense        50.0   18818.00   12090.216824   2000.0   10000.0   \n",
       "No_of_Fly_Members       50.0       4.06       1.517382      1.0       3.0   \n",
       "Emi_or_Rent_Amt         50.0    3060.00    6241.434948      0.0       0.0   \n",
       "Annual_HH_Income        50.0  490019.04  320135.792123  64200.0  258750.0   \n",
       "No_of_Earning_Members   50.0       1.46       0.734291      1.0       1.0   \n",
       "\n",
       "                            50%       75%        max  \n",
       "Mthly_HH_Income         35000.0   50375.0   100000.0  \n",
       "Mthly_HH_Expense        15500.0   25000.0    50000.0  \n",
       "No_of_Fly_Members           4.0       5.0        7.0  \n",
       "Emi_or_Rent_Amt             0.0    3500.0    35000.0  \n",
       "Annual_HH_Income       447420.0  594720.0  1404000.0  \n",
       "No_of_Earning_Members       1.0       2.0        4.0  "
      ]
     },
     "execution_count": 7,
     "metadata": {},
     "output_type": "execute_result"
    }
   ],
   "source": [
    "income.describe().T"
   ]
  },
  {
   "cell_type": "code",
   "execution_count": 8,
   "id": "6bebb8d8",
   "metadata": {
    "execution": {
     "iopub.execute_input": "2022-08-17T11:37:51.762866Z",
     "iopub.status.busy": "2022-08-17T11:37:51.762599Z",
     "iopub.status.idle": "2022-08-17T11:37:51.769699Z",
     "shell.execute_reply": "2022-08-17T11:37:51.768672Z"
    },
    "papermill": {
     "duration": 0.018236,
     "end_time": "2022-08-17T11:37:51.772458",
     "exception": false,
     "start_time": "2022-08-17T11:37:51.754222",
     "status": "completed"
    },
    "tags": []
   },
   "outputs": [
    {
     "data": {
      "text/plain": [
       "Mthly_HH_Income             0\n",
       "Mthly_HH_Expense            0\n",
       "No_of_Fly_Members           0\n",
       "Emi_or_Rent_Amt             0\n",
       "Annual_HH_Income            0\n",
       "Highest_Qualified_Member    0\n",
       "No_of_Earning_Members       0\n",
       "dtype: int64"
      ]
     },
     "execution_count": 8,
     "metadata": {},
     "output_type": "execute_result"
    }
   ],
   "source": [
    "income.isnull().sum()"
   ]
  },
  {
   "cell_type": "code",
   "execution_count": 9,
   "id": "7c59e071",
   "metadata": {
    "execution": {
     "iopub.execute_input": "2022-08-17T11:37:51.790272Z",
     "iopub.status.busy": "2022-08-17T11:37:51.789392Z",
     "iopub.status.idle": "2022-08-17T11:37:51.797164Z",
     "shell.execute_reply": "2022-08-17T11:37:51.796155Z"
    },
    "papermill": {
     "duration": 0.018074,
     "end_time": "2022-08-17T11:37:51.799149",
     "exception": false,
     "start_time": "2022-08-17T11:37:51.781075",
     "status": "completed"
    },
    "tags": []
   },
   "outputs": [
    {
     "data": {
      "text/plain": [
       "Mthly_HH_Income             False\n",
       "Mthly_HH_Expense            False\n",
       "No_of_Fly_Members           False\n",
       "Emi_or_Rent_Amt             False\n",
       "Annual_HH_Income            False\n",
       "Highest_Qualified_Member    False\n",
       "No_of_Earning_Members       False\n",
       "dtype: bool"
      ]
     },
     "execution_count": 9,
     "metadata": {},
     "output_type": "execute_result"
    }
   ],
   "source": [
    "income.isna().any()"
   ]
  },
  {
   "cell_type": "markdown",
   "id": "9b6ed336",
   "metadata": {
    "papermill": {
     "duration": 0.007412,
     "end_time": "2022-08-17T11:37:51.814179",
     "exception": false,
     "start_time": "2022-08-17T11:37:51.806767",
     "status": "completed"
    },
    "tags": []
   },
   "source": [
    "**No null values in the dataset**"
   ]
  },
  {
   "cell_type": "markdown",
   "id": "cfc1d66d",
   "metadata": {
    "papermill": {
     "duration": 0.007586,
     "end_time": "2022-08-17T11:37:51.829888",
     "exception": false,
     "start_time": "2022-08-17T11:37:51.822302",
     "status": "completed"
    },
    "tags": []
   },
   "source": [
    "# Mean Expense of a Household"
   ]
  },
  {
   "cell_type": "code",
   "execution_count": 10,
   "id": "e2bf1789",
   "metadata": {
    "execution": {
     "iopub.execute_input": "2022-08-17T11:37:51.846889Z",
     "iopub.status.busy": "2022-08-17T11:37:51.846541Z",
     "iopub.status.idle": "2022-08-17T11:37:51.852758Z",
     "shell.execute_reply": "2022-08-17T11:37:51.851868Z"
    },
    "papermill": {
     "duration": 0.017168,
     "end_time": "2022-08-17T11:37:51.854726",
     "exception": false,
     "start_time": "2022-08-17T11:37:51.837558",
     "status": "completed"
    },
    "tags": []
   },
   "outputs": [
    {
     "data": {
      "text/plain": [
       "18818.0"
      ]
     },
     "execution_count": 10,
     "metadata": {},
     "output_type": "execute_result"
    }
   ],
   "source": [
    "income[\"Mthly_HH_Expense\"].mean()"
   ]
  },
  {
   "cell_type": "markdown",
   "id": "444639af",
   "metadata": {
    "papermill": {
     "duration": 0.0075,
     "end_time": "2022-08-17T11:37:51.869915",
     "exception": false,
     "start_time": "2022-08-17T11:37:51.862415",
     "status": "completed"
    },
    "tags": []
   },
   "source": [
    "# Median Household Expense"
   ]
  },
  {
   "cell_type": "code",
   "execution_count": 11,
   "id": "50b51790",
   "metadata": {
    "execution": {
     "iopub.execute_input": "2022-08-17T11:37:51.887648Z",
     "iopub.status.busy": "2022-08-17T11:37:51.886782Z",
     "iopub.status.idle": "2022-08-17T11:37:51.893658Z",
     "shell.execute_reply": "2022-08-17T11:37:51.892458Z"
    },
    "papermill": {
     "duration": 0.01836,
     "end_time": "2022-08-17T11:37:51.896220",
     "exception": false,
     "start_time": "2022-08-17T11:37:51.877860",
     "status": "completed"
    },
    "tags": []
   },
   "outputs": [
    {
     "data": {
      "text/plain": [
       "15500.0"
      ]
     },
     "execution_count": 11,
     "metadata": {},
     "output_type": "execute_result"
    }
   ],
   "source": [
    "income[\"Mthly_HH_Expense\"].median()"
   ]
  },
  {
   "cell_type": "markdown",
   "id": "e42163f2",
   "metadata": {
    "papermill": {
     "duration": 0.007552,
     "end_time": "2022-08-17T11:37:51.911548",
     "exception": false,
     "start_time": "2022-08-17T11:37:51.903996",
     "status": "completed"
    },
    "tags": []
   },
   "source": [
    "# Monthly Expense for most of the Households"
   ]
  },
  {
   "cell_type": "code",
   "execution_count": 12,
   "id": "8c360ea8",
   "metadata": {
    "execution": {
     "iopub.execute_input": "2022-08-17T11:37:51.929192Z",
     "iopub.status.busy": "2022-08-17T11:37:51.927845Z",
     "iopub.status.idle": "2022-08-17T11:37:51.947181Z",
     "shell.execute_reply": "2022-08-17T11:37:51.946365Z"
    },
    "papermill": {
     "duration": 0.02999,
     "end_time": "2022-08-17T11:37:51.949324",
     "exception": false,
     "start_time": "2022-08-17T11:37:51.919334",
     "status": "completed"
    },
    "tags": []
   },
   "outputs": [],
   "source": [
    "mth_exp_tmp = pd.crosstab(index=income[\"Mthly_HH_Expense\"], columns=\"count\")"
   ]
  },
  {
   "cell_type": "code",
   "execution_count": 13,
   "id": "fefb77e4",
   "metadata": {
    "execution": {
     "iopub.execute_input": "2022-08-17T11:37:51.967653Z",
     "iopub.status.busy": "2022-08-17T11:37:51.966209Z",
     "iopub.status.idle": "2022-08-17T11:37:51.971883Z",
     "shell.execute_reply": "2022-08-17T11:37:51.971030Z"
    },
    "papermill": {
     "duration": 0.016735,
     "end_time": "2022-08-17T11:37:51.973944",
     "exception": false,
     "start_time": "2022-08-17T11:37:51.957209",
     "status": "completed"
    },
    "tags": []
   },
   "outputs": [],
   "source": [
    "mth_exp_tmp.reset_index(inplace=True)"
   ]
  },
  {
   "cell_type": "code",
   "execution_count": 14,
   "id": "9e1a2c7a",
   "metadata": {
    "execution": {
     "iopub.execute_input": "2022-08-17T11:37:51.992204Z",
     "iopub.status.busy": "2022-08-17T11:37:51.990854Z",
     "iopub.status.idle": "2022-08-17T11:37:52.000778Z",
     "shell.execute_reply": "2022-08-17T11:37:51.999855Z"
    },
    "papermill": {
     "duration": 0.021001,
     "end_time": "2022-08-17T11:37:52.002727",
     "exception": false,
     "start_time": "2022-08-17T11:37:51.981726",
     "status": "completed"
    },
    "tags": []
   },
   "outputs": [
    {
     "data": {
      "text/html": [
       "<div>\n",
       "<style scoped>\n",
       "    .dataframe tbody tr th:only-of-type {\n",
       "        vertical-align: middle;\n",
       "    }\n",
       "\n",
       "    .dataframe tbody tr th {\n",
       "        vertical-align: top;\n",
       "    }\n",
       "\n",
       "    .dataframe thead th {\n",
       "        text-align: right;\n",
       "    }\n",
       "</style>\n",
       "<table border=\"1\" class=\"dataframe\">\n",
       "  <thead>\n",
       "    <tr style=\"text-align: right;\">\n",
       "      <th>col_0</th>\n",
       "      <th>Mthly_HH_Expense</th>\n",
       "      <th>count</th>\n",
       "    </tr>\n",
       "  </thead>\n",
       "  <tbody>\n",
       "    <tr>\n",
       "      <th>18</th>\n",
       "      <td>25000</td>\n",
       "      <td>8</td>\n",
       "    </tr>\n",
       "  </tbody>\n",
       "</table>\n",
       "</div>"
      ],
      "text/plain": [
       "col_0  Mthly_HH_Expense  count\n",
       "18                25000      8"
      ]
     },
     "execution_count": 14,
     "metadata": {},
     "output_type": "execute_result"
    }
   ],
   "source": [
    "mth_exp_tmp[mth_exp_tmp['count'] == income.Mthly_HH_Expense.value_counts().max()]"
   ]
  },
  {
   "cell_type": "markdown",
   "id": "ed93689e",
   "metadata": {
    "papermill": {
     "duration": 0.007835,
     "end_time": "2022-08-17T11:37:52.018514",
     "exception": false,
     "start_time": "2022-08-17T11:37:52.010679",
     "status": "completed"
    },
    "tags": []
   },
   "source": [
    "# Plot the Histogram to count the Highest qualified member"
   ]
  },
  {
   "cell_type": "code",
   "execution_count": 15,
   "id": "e8fd6401",
   "metadata": {
    "execution": {
     "iopub.execute_input": "2022-08-17T11:37:52.036618Z",
     "iopub.status.busy": "2022-08-17T11:37:52.035204Z",
     "iopub.status.idle": "2022-08-17T11:37:52.261919Z",
     "shell.execute_reply": "2022-08-17T11:37:52.260949Z"
    },
    "papermill": {
     "duration": 0.237479,
     "end_time": "2022-08-17T11:37:52.263946",
     "exception": false,
     "start_time": "2022-08-17T11:37:52.026467",
     "status": "completed"
    },
    "tags": []
   },
   "outputs": [
    {
     "data": {
      "text/plain": [
       "<AxesSubplot:>"
      ]
     },
     "execution_count": 15,
     "metadata": {},
     "output_type": "execute_result"
    },
    {
     "data": {
      "image/png": "[encoded data removed]",
      "text/plain": [
       "<Figure size 432x288 with 1 Axes>"
      ]
     },
     "metadata": {
      "needs_background": "light"
     },
     "output_type": "display_data"
    }
   ],
   "source": [
    "income[\"Highest_Qualified_Member\"].value_counts().plot(kind=\"bar\")"
   ]
  },
  {
   "cell_type": "markdown",
   "id": "e69daa4e",
   "metadata": {
    "papermill": {
     "duration": 0.008215,
     "end_time": "2022-08-17T11:37:52.280756",
     "exception": false,
     "start_time": "2022-08-17T11:37:52.272541",
     "status": "completed"
    },
    "tags": []
   },
   "source": [
    "Insight: Highest Qualified Member is Graduate"
   ]
  },
  {
   "cell_type": "markdown",
   "id": "17629838",
   "metadata": {
    "papermill": {
     "duration": 0.007971,
     "end_time": "2022-08-17T11:37:52.296938",
     "exception": false,
     "start_time": "2022-08-17T11:37:52.288967",
     "status": "completed"
    },
    "tags": []
   },
   "source": [
    "# Calculate IQR(difference between 75% and 25% quartile)"
   ]
  },
  {
   "cell_type": "code",
   "execution_count": 16,
   "id": "6339db56",
   "metadata": {
    "execution": {
     "iopub.execute_input": "2022-08-17T11:37:52.315905Z",
     "iopub.status.busy": "2022-08-17T11:37:52.314226Z",
     "iopub.status.idle": "2022-08-17T11:37:52.538496Z",
     "shell.execute_reply": "2022-08-17T11:37:52.536641Z"
    },
    "papermill": {
     "duration": 0.236797,
     "end_time": "2022-08-17T11:37:52.541990",
     "exception": false,
     "start_time": "2022-08-17T11:37:52.305193",
     "status": "completed"
    },
    "tags": []
   },
   "outputs": [
    {
     "data": {
      "text/plain": [
       "<AxesSubplot:xlabel='Mthly_HH_Income'>"
      ]
     },
     "execution_count": 16,
     "metadata": {},
     "output_type": "execute_result"
    },
    {
     "data": {
      "image/png": "[encoded data removed]",
      "text/plain": [
       "<Figure size 432x288 with 1 Axes>"
      ]
     },
     "metadata": {
      "needs_background": "light"
     },
     "output_type": "display_data"
    }
   ],
   "source": [
    "income.plot(x=\"Mthly_HH_Income\", y=\"Mthly_HH_Expense\")"
   ]
  },
  {
   "cell_type": "code",
   "execution_count": 17,
   "id": "017d9cd7",
   "metadata": {
    "execution": {
     "iopub.execute_input": "2022-08-17T11:37:52.579468Z",
     "iopub.status.busy": "2022-08-17T11:37:52.578759Z",
     "iopub.status.idle": "2022-08-17T11:37:52.592141Z",
     "shell.execute_reply": "2022-08-17T11:37:52.591228Z"
    },
    "papermill": {
     "duration": 0.034811,
     "end_time": "2022-08-17T11:37:52.594884",
     "exception": false,
     "start_time": "2022-08-17T11:37:52.560073",
     "status": "completed"
    },
    "tags": []
   },
   "outputs": [],
   "source": [
    "IQR=income[\"Mthly_HH_Expense\"].quantile(0.75)-income[\"Mthly_HH_Expense\"].quantile(0.25)"
   ]
  },
  {
   "cell_type": "code",
   "execution_count": 18,
   "id": "4f2aef26",
   "metadata": {
    "execution": {
     "iopub.execute_input": "2022-08-17T11:37:52.622521Z",
     "iopub.status.busy": "2022-08-17T11:37:52.622093Z",
     "iopub.status.idle": "2022-08-17T11:37:52.628528Z",
     "shell.execute_reply": "2022-08-17T11:37:52.627684Z"
    },
    "papermill": {
     "duration": 0.026151,
     "end_time": "2022-08-17T11:37:52.634511",
     "exception": false,
     "start_time": "2022-08-17T11:37:52.608360",
     "status": "completed"
    },
    "tags": []
   },
   "outputs": [
    {
     "data": {
      "text/plain": [
       "15000.0"
      ]
     },
     "execution_count": 18,
     "metadata": {},
     "output_type": "execute_result"
    }
   ],
   "source": [
    "IQR"
   ]
  },
  {
   "cell_type": "markdown",
   "id": "d1d16c3f",
   "metadata": {
    "papermill": {
     "duration": 0.012397,
     "end_time": "2022-08-17T11:37:52.660046",
     "exception": false,
     "start_time": "2022-08-17T11:37:52.647649",
     "status": "completed"
    },
    "tags": []
   },
   "source": [
    "# Calculate Standard Deviation for first 4 columns"
   ]
  },
  {
   "cell_type": "code",
   "execution_count": 19,
   "id": "ff4b42cc",
   "metadata": {
    "execution": {
     "iopub.execute_input": "2022-08-17T11:37:52.686667Z",
     "iopub.status.busy": "2022-08-17T11:37:52.686199Z",
     "iopub.status.idle": "2022-08-17T11:37:52.701052Z",
     "shell.execute_reply": "2022-08-17T11:37:52.700137Z"
    },
    "papermill": {
     "duration": 0.032342,
     "end_time": "2022-08-17T11:37:52.705091",
     "exception": false,
     "start_time": "2022-08-17T11:37:52.672749",
     "status": "completed"
    },
    "tags": []
   },
   "outputs": [
    {
     "data": {
      "text/html": [
       "<div>\n",
       "<style scoped>\n",
       "    .dataframe tbody tr th:only-of-type {\n",
       "        vertical-align: middle;\n",
       "    }\n",
       "\n",
       "    .dataframe tbody tr th {\n",
       "        vertical-align: top;\n",
       "    }\n",
       "\n",
       "    .dataframe thead th {\n",
       "        text-align: right;\n",
       "    }\n",
       "</style>\n",
       "<table border=\"1\" class=\"dataframe\">\n",
       "  <thead>\n",
       "    <tr style=\"text-align: right;\">\n",
       "      <th></th>\n",
       "      <th>0</th>\n",
       "    </tr>\n",
       "  </thead>\n",
       "  <tbody>\n",
       "    <tr>\n",
       "      <th>Mthly_HH_Income</th>\n",
       "      <td>26097.908979</td>\n",
       "    </tr>\n",
       "    <tr>\n",
       "      <th>Mthly_HH_Expense</th>\n",
       "      <td>12090.216824</td>\n",
       "    </tr>\n",
       "    <tr>\n",
       "      <th>No_of_Fly_Members</th>\n",
       "      <td>1.517382</td>\n",
       "    </tr>\n",
       "    <tr>\n",
       "      <th>Emi_or_Rent_Amt</th>\n",
       "      <td>6241.434948</td>\n",
       "    </tr>\n",
       "    <tr>\n",
       "      <th>Annual_HH_Income</th>\n",
       "      <td>320135.792123</td>\n",
       "    </tr>\n",
       "  </tbody>\n",
       "</table>\n",
       "</div>"
      ],
      "text/plain": [
       "                               0\n",
       "Mthly_HH_Income     26097.908979\n",
       "Mthly_HH_Expense    12090.216824\n",
       "No_of_Fly_Members       1.517382\n",
       "Emi_or_Rent_Amt      6241.434948\n",
       "Annual_HH_Income   320135.792123"
      ]
     },
     "execution_count": 19,
     "metadata": {},
     "output_type": "execute_result"
    }
   ],
   "source": [
    "pd.DataFrame(income.iloc[:,0:5].std().to_frame())"
   ]
  },
  {
   "cell_type": "code",
   "execution_count": 20,
   "id": "61c8b22d",
   "metadata": {
    "execution": {
     "iopub.execute_input": "2022-08-17T11:37:52.735630Z",
     "iopub.status.busy": "2022-08-17T11:37:52.735287Z",
     "iopub.status.idle": "2022-08-17T11:37:52.754623Z",
     "shell.execute_reply": "2022-08-17T11:37:52.753637Z"
    },
    "papermill": {
     "duration": 0.038168,
     "end_time": "2022-08-17T11:37:52.757841",
     "exception": false,
     "start_time": "2022-08-17T11:37:52.719673",
     "status": "completed"
    },
    "tags": []
   },
   "outputs": [
    {
     "data": {
      "text/html": [
       "<div>\n",
       "<style scoped>\n",
       "    .dataframe tbody tr th:only-of-type {\n",
       "        vertical-align: middle;\n",
       "    }\n",
       "\n",
       "    .dataframe tbody tr th {\n",
       "        vertical-align: top;\n",
       "    }\n",
       "\n",
       "    .dataframe thead th {\n",
       "        text-align: right;\n",
       "    }\n",
       "</style>\n",
       "<table border=\"1\" class=\"dataframe\">\n",
       "  <thead>\n",
       "    <tr style=\"text-align: right;\">\n",
       "      <th></th>\n",
       "      <th>Mthly_HH_Income</th>\n",
       "      <th>Mthly_HH_Expense</th>\n",
       "      <th>No_of_Fly_Members</th>\n",
       "      <th>Emi_or_Rent_Amt</th>\n",
       "      <th>Annual_HH_Income</th>\n",
       "    </tr>\n",
       "  </thead>\n",
       "  <tbody>\n",
       "    <tr>\n",
       "      <th>0</th>\n",
       "      <td>26097.908979</td>\n",
       "      <td>12090.216824</td>\n",
       "      <td>1.517382</td>\n",
       "      <td>6241.434948</td>\n",
       "      <td>320135.792123</td>\n",
       "    </tr>\n",
       "  </tbody>\n",
       "</table>\n",
       "</div>"
      ],
      "text/plain": [
       "   Mthly_HH_Income  Mthly_HH_Expense  No_of_Fly_Members  Emi_or_Rent_Amt  \\\n",
       "0     26097.908979      12090.216824           1.517382      6241.434948   \n",
       "\n",
       "   Annual_HH_Income  \n",
       "0     320135.792123  "
      ]
     },
     "execution_count": 20,
     "metadata": {},
     "output_type": "execute_result"
    }
   ],
   "source": [
    "pd.DataFrame(income.iloc[:,0:5].std().to_frame()).T"
   ]
  },
  {
   "cell_type": "markdown",
   "id": "6259c071",
   "metadata": {
    "papermill": {
     "duration": 0.014255,
     "end_time": "2022-08-17T11:37:52.787335",
     "exception": false,
     "start_time": "2022-08-17T11:37:52.773080",
     "status": "completed"
    },
    "tags": []
   },
   "source": [
    "# Calculate Variance for first 3 columns"
   ]
  },
  {
   "cell_type": "code",
   "execution_count": 21,
   "id": "cdcb4b10",
   "metadata": {
    "execution": {
     "iopub.execute_input": "2022-08-17T11:37:52.818320Z",
     "iopub.status.busy": "2022-08-17T11:37:52.817866Z",
     "iopub.status.idle": "2022-08-17T11:37:52.837193Z",
     "shell.execute_reply": "2022-08-17T11:37:52.836250Z"
    },
    "papermill": {
     "duration": 0.038367,
     "end_time": "2022-08-17T11:37:52.840014",
     "exception": false,
     "start_time": "2022-08-17T11:37:52.801647",
     "status": "completed"
    },
    "tags": []
   },
   "outputs": [
    {
     "data": {
      "text/html": [
       "<div>\n",
       "<style scoped>\n",
       "    .dataframe tbody tr th:only-of-type {\n",
       "        vertical-align: middle;\n",
       "    }\n",
       "\n",
       "    .dataframe tbody tr th {\n",
       "        vertical-align: top;\n",
       "    }\n",
       "\n",
       "    .dataframe thead th {\n",
       "        text-align: right;\n",
       "    }\n",
       "</style>\n",
       "<table border=\"1\" class=\"dataframe\">\n",
       "  <thead>\n",
       "    <tr style=\"text-align: right;\">\n",
       "      <th></th>\n",
       "      <th>Mthly_HH_Income</th>\n",
       "      <th>Mthly_HH_Expense</th>\n",
       "      <th>No_of_Fly_Members</th>\n",
       "      <th>Emi_or_Rent_Amt</th>\n",
       "    </tr>\n",
       "  </thead>\n",
       "  <tbody>\n",
       "    <tr>\n",
       "      <th>0</th>\n",
       "      <td>6.811009e+08</td>\n",
       "      <td>1.461733e+08</td>\n",
       "      <td>2.302449</td>\n",
       "      <td>3.895551e+07</td>\n",
       "    </tr>\n",
       "  </tbody>\n",
       "</table>\n",
       "</div>"
      ],
      "text/plain": [
       "   Mthly_HH_Income  Mthly_HH_Expense  No_of_Fly_Members  Emi_or_Rent_Amt\n",
       "0     6.811009e+08      1.461733e+08           2.302449     3.895551e+07"
      ]
     },
     "execution_count": 21,
     "metadata": {},
     "output_type": "execute_result"
    }
   ],
   "source": [
    "pd.DataFrame(income.iloc[:,0:4].var().to_frame()).T"
   ]
  },
  {
   "cell_type": "markdown",
   "id": "6626dab7",
   "metadata": {
    "papermill": {
     "duration": 0.014403,
     "end_time": "2022-08-17T11:37:52.869420",
     "exception": false,
     "start_time": "2022-08-17T11:37:52.855017",
     "status": "completed"
    },
    "tags": []
   },
   "source": [
    "# Calculate the count of Highest qualified member"
   ]
  },
  {
   "cell_type": "code",
   "execution_count": 22,
   "id": "9050c258",
   "metadata": {
    "execution": {
     "iopub.execute_input": "2022-08-17T11:37:52.906478Z",
     "iopub.status.busy": "2022-08-17T11:37:52.906118Z",
     "iopub.status.idle": "2022-08-17T11:37:52.927623Z",
     "shell.execute_reply": "2022-08-17T11:37:52.926727Z"
    },
    "papermill": {
     "duration": 0.046153,
     "end_time": "2022-08-17T11:37:52.930394",
     "exception": false,
     "start_time": "2022-08-17T11:37:52.884241",
     "status": "completed"
    },
    "tags": []
   },
   "outputs": [
    {
     "data": {
      "text/html": [
       "<div>\n",
       "<style scoped>\n",
       "    .dataframe tbody tr th:only-of-type {\n",
       "        vertical-align: middle;\n",
       "    }\n",
       "\n",
       "    .dataframe tbody tr th {\n",
       "        vertical-align: top;\n",
       "    }\n",
       "\n",
       "    .dataframe thead th {\n",
       "        text-align: right;\n",
       "    }\n",
       "</style>\n",
       "<table border=\"1\" class=\"dataframe\">\n",
       "  <thead>\n",
       "    <tr style=\"text-align: right;\">\n",
       "      <th></th>\n",
       "      <th>Graduate</th>\n",
       "      <th>Under-Graduate</th>\n",
       "      <th>Professional</th>\n",
       "      <th>Post-Graduate</th>\n",
       "      <th>Illiterate</th>\n",
       "    </tr>\n",
       "  </thead>\n",
       "  <tbody>\n",
       "    <tr>\n",
       "      <th>Highest_Qualified_Member</th>\n",
       "      <td>19</td>\n",
       "      <td>10</td>\n",
       "      <td>10</td>\n",
       "      <td>6</td>\n",
       "      <td>5</td>\n",
       "    </tr>\n",
       "  </tbody>\n",
       "</table>\n",
       "</div>"
      ],
      "text/plain": [
       "                          Graduate  Under-Graduate  Professional  \\\n",
       "Highest_Qualified_Member        19              10            10   \n",
       "\n",
       "                          Post-Graduate  Illiterate  \n",
       "Highest_Qualified_Member              6           5  "
      ]
     },
     "execution_count": 22,
     "metadata": {},
     "output_type": "execute_result"
    }
   ],
   "source": [
    "income[\"Highest_Qualified_Member\"].value_counts().to_frame().T"
   ]
  },
  {
   "cell_type": "markdown",
   "id": "c0036ed2",
   "metadata": {
    "papermill": {
     "duration": 0.013315,
     "end_time": "2022-08-17T11:37:52.959919",
     "exception": false,
     "start_time": "2022-08-17T11:37:52.946604",
     "status": "completed"
    },
    "tags": []
   },
   "source": [
    "# Plot the Histogram to count the No_of_Earning_Members"
   ]
  },
  {
   "cell_type": "code",
   "execution_count": 23,
   "id": "95ea0872",
   "metadata": {
    "execution": {
     "iopub.execute_input": "2022-08-17T11:37:52.988582Z",
     "iopub.status.busy": "2022-08-17T11:37:52.988263Z",
     "iopub.status.idle": "2022-08-17T11:37:53.282343Z",
     "shell.execute_reply": "2022-08-17T11:37:53.278258Z"
    },
    "papermill": {
     "duration": 0.317344,
     "end_time": "2022-08-17T11:37:53.291409",
     "exception": false,
     "start_time": "2022-08-17T11:37:52.974065",
     "status": "completed"
    },
    "tags": []
   },
   "outputs": [
    {
     "data": {
      "text/plain": [
       "<AxesSubplot:>"
      ]
     },
     "execution_count": 23,
     "metadata": {},
     "output_type": "execute_result"
    },
    {
     "data": {
      "image/png": "[encoded data removed]",
      "text/plain": [
       "<Figure size 432x288 with 1 Axes>"
      ]
     },
     "metadata": {
      "needs_background": "light"
     },
     "output_type": "display_data"
    }
   ],
   "source": [
    "income[\"No_of_Earning_Members\"].value_counts().plot(kind=\"bar\")"
   ]
  },
  {
   "cell_type": "markdown",
   "id": "12d05157",
   "metadata": {
    "papermill": {
     "duration": 0.034338,
     "end_time": "2022-08-17T11:37:53.356473",
     "exception": false,
     "start_time": "2022-08-17T11:37:53.322135",
     "status": "completed"
    },
    "tags": []
   },
   "source": [
    "# Suppose you have option to invest in Stock A or Stock B. The stocks • have different expected returns and standard deviations. The expected return of Stock A is 15% and Stock B is 10%. Standard Deviation of the returns of these stocks is 10% and 5% respectively.Which is better investment?"
   ]
  },
  {
   "cell_type": "code",
   "execution_count": 24,
   "id": "a97071cb",
   "metadata": {
    "execution": {
     "iopub.execute_input": "2022-08-17T11:37:53.410260Z",
     "iopub.status.busy": "2022-08-17T11:37:53.402941Z",
     "iopub.status.idle": "2022-08-17T11:37:53.435033Z",
     "shell.execute_reply": "2022-08-17T11:37:53.427018Z"
    },
    "papermill": {
     "duration": 0.067214,
     "end_time": "2022-08-17T11:37:53.440268",
     "exception": false,
     "start_time": "2022-08-17T11:37:53.373054",
     "status": "completed"
    },
    "tags": []
   },
   "outputs": [
    {
     "name": "stdout",
     "output_type": "stream",
     "text": [
      "0.6666666666666666\n"
     ]
    }
   ],
   "source": [
    "#Here we need to calculate the coeff of variation \n",
    "\n",
    "Coeff_of_var_StockA=10/15\n",
    "print(Coeff_of_var_StockA)\n"
   ]
  },
  {
   "cell_type": "code",
   "execution_count": 25,
   "id": "85c0b87d",
   "metadata": {
    "execution": {
     "iopub.execute_input": "2022-08-17T11:37:53.503207Z",
     "iopub.status.busy": "2022-08-17T11:37:53.496182Z",
     "iopub.status.idle": "2022-08-17T11:37:53.515664Z",
     "shell.execute_reply": "2022-08-17T11:37:53.509168Z"
    },
    "papermill": {
     "duration": 0.055507,
     "end_time": "2022-08-17T11:37:53.521237",
     "exception": false,
     "start_time": "2022-08-17T11:37:53.465730",
     "status": "completed"
    },
    "tags": []
   },
   "outputs": [
    {
     "name": "stdout",
     "output_type": "stream",
     "text": [
      "0.5\n"
     ]
    }
   ],
   "source": [
    "Coeff_of_var_StockB=5/10\n",
    "print(Coeff_of_var_StockB)"
   ]
  }
 ],
 "metadata": {
  "kernelspec": {
   "display_name": "Python 3",
   "language": "python",
   "name": "python3"
  },
  "language_info": {
   "codemirror_mode": {
    "name": "ipython",
    "version": 3
   },
   "file_extension": ".py",
   "mimetype": "text/x-python",
   "name": "python",
   "nbconvert_exporter": "python",
   "pygments_lexer": "ipython3",
   "version": "3.7.12"
  },
  "papermill": {
   "default_parameters": {},
   "duration": 10.678806,
   "end_time": "2022-08-17T11:37:54.275202",
   "environment_variables": {},
   "exception": null,
   "input_path": "__notebook__.ipynb",
   "output_path": "__notebook__.ipynb",
   "parameters": {},
   "start_time": "2022-08-17T11:37:43.596396",
   "version": "2.3.4"
  }
 },
 "nbformat": 4,
 "nbformat_minor": 5
}
